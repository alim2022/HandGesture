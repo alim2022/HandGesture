{
 "cells": [
  {
   "cell_type": "code",
   "execution_count": 1,
   "id": "da5f9c61",
   "metadata": {},
   "outputs": [],
   "source": [
    "#import\n",
    "import matplotlib.pyplot as plt\n",
    "import mediapipe as mp\n",
    "import numpy as np\n",
    "import cv2\n",
    "from IPython.display import clear_output\n",
    "import pickle"
   ]
  },
  {
   "cell_type": "code",
   "execution_count": 2,
   "id": "d15d8f8d",
   "metadata": {},
   "outputs": [],
   "source": [
    "#instantiate drawing & hands\n",
    "mp_drawing = mp.solutions.drawing_utils\n",
    "mp_hands = mp.solutions.hands"
   ]
  },
  {
   "cell_type": "code",
   "execution_count": 3,
   "id": "e2f6a6eb",
   "metadata": {},
   "outputs": [],
   "source": [
    "#determine\n",
    "def determine_hand_gesture(hand_landmarks):\n",
    "    finger_up = [False, False, False, False, False]\n",
    "    \n",
    "    if(hand_landmarks.landmark[4].y < hand_landmarks.landmark[3].y\n",
    "       and hand_landmarks.landmark[3].y < hand_landmarks.landmark[2].y\n",
    "       and hand_landmarks.landmark[2].y < hand_landmarks.landmark[1].y\n",
    "       and hand_landmarks.landmark[1].y < hand_landmarks.landmark[0].y\n",
    "       and hand_landmarks.landmark[3].y < hand_landmarks.landmark[6].y \n",
    "      ):\n",
    "        finger_up[0] = True\n",
    "    if(hand_landmarks.landmark[8].y < hand_landmarks.landmark[7].y\n",
    "       and hand_landmarks.landmark[7].y < hand_landmarks.landmark[6].y\n",
    "       and hand_landmarks.landmark[6].y < hand_landmarks.landmark[5].y\n",
    "       and hand_landmarks.landmark[5].y < hand_landmarks.landmark[0].y\n",
    "      ):\n",
    "        finger_up[1] = True\n",
    "    if(hand_landmarks.landmark[12].y < hand_landmarks.landmark[11].y\n",
    "       and hand_landmarks.landmark[11].y < hand_landmarks.landmark[10].y\n",
    "       and hand_landmarks.landmark[10].y < hand_landmarks.landmark[9].y\n",
    "       and hand_landmarks.landmark[9].y < hand_landmarks.landmark[0].y\\\n",
    "      ):\n",
    "        finger_up[2] = True\n",
    "    if(hand_landmarks.landmark[16].y < hand_landmarks.landmark[15].y\n",
    "       and hand_landmarks.landmark[15].y < hand_landmarks.landmark[14].y\n",
    "       and hand_landmarks.landmark[14].y < hand_landmarks.landmark[13].y\n",
    "       and hand_landmarks.landmark[13].y < hand_landmarks.landmark[0].y\n",
    "      ):\n",
    "        finger_up[3] = True\n",
    "    if(hand_landmarks.landmark[20].y < hand_landmarks.landmark[19].y \n",
    "       and hand_landmarks.landmark[19].y < hand_landmarks.landmark[18].y \n",
    "       and hand_landmarks.landmark[18].y < hand_landmarks.landmark[17].y\n",
    "       and hand_landmarks.landmark[17].y < hand_landmarks.landmark[0].y\n",
    "      ):\n",
    "        finger_up[4] = True\n",
    "    \n",
    "    print(finger_up)\n",
    "    \n",
    "    if(finger_up[1] and not finger_up[2] and not finger_up[3] and not finger_up[4]):\n",
    "        return 0\n",
    "    elif(finger_up[1] and finger_up[2] and not finger_up[3] and not finger_up[4]):\n",
    "        return 1\n",
    "    elif(finger_up[1] and finger_up[2] and finger_up[3] and not finger_up[4]):\n",
    "        return 2\n",
    "    elif(finger_up[0] and not finger_up[1] and not finger_up[2] and not finger_up[3] and not finger_up[4]):\n",
    "        return 3\n",
    "    elif(not finger_up[1] and not finger_up[2] and not finger_up[3] and not finger_up[4]):\n",
    "        if(hand_landmarks.landmark[4].y > hand_landmarks.landmark[3].y\n",
    "           and hand_landmarks.landmark[3].y > hand_landmarks.landmark[2].y\n",
    "           and hand_landmarks.landmark[2].y > hand_landmarks.landmark[1].y\n",
    "           and hand_landmarks.landmark[1].y > hand_landmarks.landmark[0].y\n",
    "          ):\n",
    "            return 4\n",
    "        else:\n",
    "            return 5"
   ]
  },
  {
   "cell_type": "code",
   "execution_count": 4,
   "id": "0acaf5ff",
   "metadata": {},
   "outputs": [
    {
     "name": "stdout",
     "output_type": "stream",
     "text": [
      "[False, True, True, True, True]\n",
      "None\n"
     ]
    }
   ],
   "source": [
    "#annotated camera\n",
    "cap = cv2.VideoCapture(0)\n",
    "hands = mp_hands.Hands(static_image_mode=False , max_num_hands = 1 , min_detection_confidence=0.7, min_tracking_confidence=0.5)\n",
    "\n",
    "while cap.isOpened():\n",
    "    success, img = cap.read()\n",
    "    if not success:\n",
    "        print(\"read fail\")\n",
    "        continue\n",
    "        \n",
    "    img = cv2.flip(img, 1)\n",
    "    img = cv2.cvtColor(img, cv2.COLOR_BGR2RGB)\n",
    "    img.flags.writeable = False\n",
    "    results = hands.process(img)\n",
    "    img.flags.writeable = True\n",
    "    img = cv2.cvtColor(img, cv2.COLOR_RGB2BGR)\n",
    "    \n",
    "    if results.multi_hand_landmarks is not None:\n",
    "        hand_landmarks = results.multi_hand_landmarks[0]\n",
    "        clear_output(wait=True)\n",
    "        print(determine_hand_gesture(hand_landmarks))\n",
    "        \n",
    "        for hand_landmarks in results.multi_hand_landmarks:\n",
    "            mp_drawing.draw_landmarks(img, hand_landmarks, mp_hands.HAND_CONNECTIONS)\n",
    "    \n",
    "    cv2.imshow(\"test\" , img)\n",
    "    if cv2.waitKey(5)==27:\n",
    "        break\n",
    "        \n",
    "cv2.destroyAllWindows()\n",
    "cv2.waitKey(1)\n",
    "cap.release()\n"
   ]
  },
  {
   "cell_type": "code",
   "execution_count": 42,
   "id": "ecc02112",
   "metadata": {},
   "outputs": [],
   "source": [
    "#Data Collection\n",
    "dataset=[]\n",
    "\n",
    "cap = cv2.VideoCapture(0)\n",
    "hands = mp_hands.Hands(static_image_mode=False , max_num_hands = 1 , min_detection_confidence=0.7, min_tracking_confidence=0.5)\n",
    "\n",
    "while cap.isOpened():\n",
    "    success, img = cap.read()\n",
    "    if not success:\n",
    "        print(\"read fail\")\n",
    "        continue\n",
    "        \n",
    "    img = cv2.flip(img, 1)\n",
    "    img = cv2.cvtColor(img, cv2.COLOR_BGR2RGB)\n",
    "    img.flags.writeable = False\n",
    "    results = hands.process(img)\n",
    "    img.flags.writeable = True\n",
    "    img = cv2.cvtColor(img, cv2.COLOR_RGB2BGR)\n",
    "    \n",
    "    if results.multi_hand_landmarks is not None:\n",
    "        hand_landmarks = results.multi_hand_landmarks[0]\n",
    "        clear_output(wait=True)\n",
    "        \n",
    "        \n",
    "        for hand_landmarks in results.multi_hand_landmarks:\n",
    "            mp_drawing.draw_landmarks(img, hand_landmarks, mp_hands.HAND_CONNECTIONS)\n",
    "    \n",
    "    cv2.imshow(\"test\" , img)\n",
    "    key_value = cv2.waitKey(5)\n",
    "    \n",
    "    if key_value==49:\n",
    "        data_pair = [hand_landmarks, 0]\n",
    "        dataset.append(data_pair)\n",
    "    elif key_value==50:\n",
    "        data_pair = [hand_landmarks, 1]\n",
    "        dataset.append(data_pair)\n",
    "    elif key_value==51:\n",
    "        data_pair = [hand_landmarks, 2]\n",
    "        dataset.append(data_pair)\n",
    "    elif key_value==52:\n",
    "        data_pair = [hand_landmarks, 3]\n",
    "        dataset.append(data_pair)\n",
    "    elif key_value==53:\n",
    "        data_pair = [hand_landmarks, 4]\n",
    "        dataset.append(data_pair)\n",
    "    elif key_value==54:\n",
    "        data_pair = [hand_landmarks, 5]\n",
    "        dataset.append(data_pair)\n",
    "    elif key_value==27:\n",
    "        break\n",
    "        \n",
    "cv2.destroyAllWindows()\n",
    "cv2.waitKey(1)\n",
    "cap.release()"
   ]
  },
  {
   "cell_type": "code",
   "execution_count": 43,
   "id": "7a130963",
   "metadata": {},
   "outputs": [
    {
     "name": "stdout",
     "output_type": "stream",
     "text": [
      "49\n"
     ]
    }
   ],
   "source": [
    "print(len(dataset))"
   ]
  },
  {
   "cell_type": "code",
   "execution_count": 44,
   "id": "058e6ac7",
   "metadata": {},
   "outputs": [],
   "source": [
    "with open(\"dataset.pkl\", \"wb\")as f:\n",
    "    pickle.dump(dataset,f)"
   ]
  },
  {
   "cell_type": "code",
   "execution_count": null,
   "id": "477c360f",
   "metadata": {},
   "outputs": [],
   "source": []
  }
 ],
 "metadata": {
  "kernelspec": {
   "display_name": "Python 3 (ipykernel)",
   "language": "python",
   "name": "python3"
  },
  "language_info": {
   "codemirror_mode": {
    "name": "ipython",
    "version": 3
   },
   "file_extension": ".py",
   "mimetype": "text/x-python",
   "name": "python",
   "nbconvert_exporter": "python",
   "pygments_lexer": "ipython3",
   "version": "3.7.1"
  }
 },
 "nbformat": 4,
 "nbformat_minor": 5
}
