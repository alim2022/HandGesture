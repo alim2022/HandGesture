{
 "cells": [
  {
   "cell_type": "code",
   "execution_count": 1,
   "id": "622d5569",
   "metadata": {},
   "outputs": [],
   "source": [
    "#import\n",
    "import matplotlib.pyplot as plt\n",
    "import mediapipe as mp\n",
    "import numpy as np\n",
    "import cv2\n",
    "from IPython.display import clear_output\n",
    "import pickle"
   ]
  },
  {
   "cell_type": "code",
   "execution_count": 2,
   "id": "2a8701f9",
   "metadata": {},
   "outputs": [],
   "source": [
    "#instantiate drawing & hands\n",
    "mp_drawing = mp.solutions.drawing_utils\n",
    "mp_hands = mp.solutions.hands"
   ]
  },
  {
   "cell_type": "code",
   "execution_count": 3,
   "id": "c35e7337",
   "metadata": {},
   "outputs": [],
   "source": [
    "with open(\"dataset.pkl\", \"rb\") as f:\n",
    "    dataset = pickle.load(f)"
   ]
  },
  {
   "cell_type": "code",
   "execution_count": 20,
   "id": "3fdb30a5",
   "metadata": {},
   "outputs": [
    {
     "name": "stdout",
     "output_type": "stream",
     "text": [
      "50\n"
     ]
    }
   ],
   "source": [
    "print(len(dataset))"
   ]
  },
  {
   "cell_type": "markdown",
   "id": "0524134d",
   "metadata": {},
   "source": [
    "1. one = 0\n",
    "2. two = 1\n",
    "3. three = 2\n",
    "4. thumb = 3\n",
    "5. fist = 4"
   ]
  },
  {
   "cell_type": "code",
   "execution_count": 18,
   "id": "41cf7579",
   "metadata": {},
   "outputs": [],
   "source": [
    "dataset = []\n",
    "cnt_data = np.zeros(5)\n",
    "\n",
    "cap = cv2.VideoCapture(0)\n",
    "hands = mp_hands.Hands(static_image_mode=False , max_num_hands = 1 , min_detection_confidence=0.7, min_tracking_confidence=0.5)\n",
    "\n",
    "while cap.isOpened():\n",
    "    success, img = cap.read()\n",
    "    if not success:\n",
    "        print(\"image fetch fail\")\n",
    "        continue\n",
    "        \n",
    "    img = cv2.flip(img, 1)\n",
    "    img = cv2.cvtColor(img, cv2.COLOR_BGR2RGB)\n",
    "    img.flags.writeable = False\n",
    "    results = hands.process(img)\n",
    "    img.flags.writeable = True\n",
    "    img = cv2.cvtColor(img, cv2.COLOR_RGB2BGR)\n",
    "    \n",
    "    if results.multi_hand_landmarks is not None:\n",
    "        hand_landmarks = results.multi_hand_landmarks[0]\n",
    "        mp_drawing.draw_landmarks(img, hand_landmarks, mp_hands.HAND_CONNECTIONS)\n",
    "    \n",
    "    strs = \"\"\n",
    "    for cnt in cnt_data:\n",
    "        strs += f\"{int(cnt):02d} \" \n",
    "    cv2.putText(img, strs , (50,50) , cv2.FONT_HERSHEY_COMPLEX, 1, (255,255,255))\n",
    "    \n",
    "    cv2.imshow(\"img\",img)\n",
    "    key_value = cv2.waitKey(5)\n",
    "    \n",
    "    if key_value == 27:\n",
    "        break\n",
    "        \n",
    "    if key_value==49:\n",
    "        data_pair = [hand_landmarks, 0]\n",
    "        dataset.append(data_pair)\n",
    "        cnt_data[0]+=1\n",
    "    elif key_value==50:\n",
    "        data_pair = [hand_landmarks, 1]\n",
    "        dataset.append(data_pair)\n",
    "        cnt_data[1]+=1\n",
    "    elif key_value==51:\n",
    "        data_pair = [hand_landmarks, 2]\n",
    "        dataset.append(data_pair)\n",
    "        cnt_data[2]+=1\n",
    "    elif key_value==52:\n",
    "        data_pair = [hand_landmarks, 3]\n",
    "        dataset.append(data_pair)\n",
    "        cnt_data[3]+=1\n",
    "    elif key_value==53:\n",
    "        data_pair = [hand_landmarks, 4]\n",
    "        dataset.append(data_pair)\n",
    "        cnt_data[4]+=1\n",
    "    elif key_value==27:\n",
    "        break\n",
    "\n",
    "cv2.destroyAllWindows()\n",
    "cv2.waitKey(1)\n",
    "cap.release()"
   ]
  },
  {
   "cell_type": "code",
   "execution_count": 21,
   "id": "4671a69e",
   "metadata": {},
   "outputs": [],
   "source": [
    "#determine\n",
    "def simple_classification(hand_landmarks):\n",
    "    finger_up = [False, False, False, False, False]\n",
    "    \n",
    "    if(hand_landmarks.landmark[4].y < hand_landmarks.landmark[3].y\n",
    "       and hand_landmarks.landmark[3].y < hand_landmarks.landmark[2].y\n",
    "       and hand_landmarks.landmark[2].y < hand_landmarks.landmark[1].y\n",
    "       and hand_landmarks.landmark[1].y < hand_landmarks.landmark[0].y\n",
    "       and hand_landmarks.landmark[3].y < hand_landmarks.landmark[6].y \n",
    "      ):\n",
    "        finger_up[0] = True\n",
    "    if(hand_landmarks.landmark[8].y < hand_landmarks.landmark[7].y\n",
    "       and hand_landmarks.landmark[7].y < hand_landmarks.landmark[6].y\n",
    "       and hand_landmarks.landmark[6].y < hand_landmarks.landmark[5].y\n",
    "       and hand_landmarks.landmark[5].y < hand_landmarks.landmark[0].y\n",
    "      ):\n",
    "        finger_up[1] = True\n",
    "    if(hand_landmarks.landmark[12].y < hand_landmarks.landmark[11].y\n",
    "       and hand_landmarks.landmark[11].y < hand_landmarks.landmark[10].y\n",
    "       and hand_landmarks.landmark[10].y < hand_landmarks.landmark[9].y\n",
    "       and hand_landmarks.landmark[9].y < hand_landmarks.landmark[0].y\\\n",
    "      ):\n",
    "        finger_up[2] = True\n",
    "    if(hand_landmarks.landmark[16].y < hand_landmarks.landmark[15].y\n",
    "       and hand_landmarks.landmark[15].y < hand_landmarks.landmark[14].y\n",
    "       and hand_landmarks.landmark[14].y < hand_landmarks.landmark[13].y\n",
    "       and hand_landmarks.landmark[13].y < hand_landmarks.landmark[0].y\n",
    "      ):\n",
    "        finger_up[3] = True\n",
    "    if(hand_landmarks.landmark[20].y < hand_landmarks.landmark[19].y \n",
    "       and hand_landmarks.landmark[19].y < hand_landmarks.landmark[18].y \n",
    "       and hand_landmarks.landmark[18].y < hand_landmarks.landmark[17].y\n",
    "       and hand_landmarks.landmark[17].y < hand_landmarks.landmark[0].y\n",
    "      ):\n",
    "        finger_up[4] = True\n",
    "    \n",
    "    #print(finger_up)\n",
    "    \n",
    "    if(finger_up[1] and not finger_up[2] and not finger_up[3] and not finger_up[4]):\n",
    "        return 0\n",
    "    elif(finger_up[1] and finger_up[2] and not finger_up[3] and not finger_up[4]):\n",
    "        return 1\n",
    "    elif(finger_up[1] and finger_up[2] and finger_up[3] and not finger_up[4]):\n",
    "        return 2\n",
    "    elif(finger_up[0] and not finger_up[1] and not finger_up[2] and not finger_up[3] and not finger_up[4]):\n",
    "        return 3\n",
    "    else:\n",
    "        return 4"
   ]
  },
  {
   "cell_type": "code",
   "execution_count": 23,
   "id": "163a9159",
   "metadata": {},
   "outputs": [],
   "source": [
    "hand_landmarks, true_class = dataset[0]"
   ]
  },
  {
   "cell_type": "code",
   "execution_count": 24,
   "id": "87fd1d47",
   "metadata": {},
   "outputs": [
    {
     "name": "stdout",
     "output_type": "stream",
     "text": [
      "0 0\n"
     ]
    }
   ],
   "source": [
    "predict_class = simple_classification(hand_landmarks)\n",
    "print(predict_class, true_class)"
   ]
  },
  {
   "cell_type": "code",
   "execution_count": 26,
   "id": "b136875b",
   "metadata": {},
   "outputs": [
    {
     "name": "stdout",
     "output_type": "stream",
     "text": [
      "accuracy : 96.0 %\n"
     ]
    }
   ],
   "source": [
    "correct_cnt = 0\n",
    "total_cnt = 0\n",
    "for data in dataset:\n",
    "    hand_landmarks, true_class = data\n",
    "    predict_class = simple_classification(hand_landmarks)\n",
    "    if (predict_class == true_class):\n",
    "        correct_cnt +=1\n",
    "    total_cnt+=1\n",
    "print(f\"accuracy : {correct_cnt * 100/total_cnt} %\")"
   ]
  },
  {
   "cell_type": "code",
   "execution_count": 31,
   "id": "00d5ec45",
   "metadata": {},
   "outputs": [
    {
     "name": "stdout",
     "output_type": "stream",
     "text": [
      "[[10.  0.  0.  0.  0.]\n",
      " [ 0. 10.  0.  0.  0.]\n",
      " [ 0.  0.  9.  0.  1.]\n",
      " [ 0.  0.  0.  9.  1.]\n",
      " [ 0.  0.  0.  0. 10.]]\n"
     ]
    },
    {
     "data": {
      "image/png": "[encoded data removed]",
      "text/plain": [
       "<Figure size 432x288 with 1 Axes>"
      ]
     },
     "metadata": {
      "needs_background": "light"
     },
     "output_type": "display_data"
    }
   ],
   "source": [
    "# confusion matrix\n",
    "confusion_matrix = np.zeros((5,5))\n",
    "for data in dataset:\n",
    "    hand_landmarks, true_class = data\n",
    "    predict_class = simple_classification(hand_landmarks)\n",
    "    confusion_matrix[true_class, predict_class] +=1\n",
    "print(confusion_matrix)\n",
    "\n",
    "fig, ax = plt.subplots()\n",
    "im = ax.imshow(confusion_matrix)\n",
    "ax.set_title(\"confusion matrix\")\n",
    "plt.axis(\"off\")\n",
    "plt.show()"
   ]
  },
  {
   "cell_type": "code",
   "execution_count": 4,
   "id": "22d92c9b",
   "metadata": {},
   "outputs": [],
   "source": [
    "# complex method\n",
    "new_dataset = []\n",
    "for data in dataset:\n",
    "    hand_landmarks, true_class = data\n",
    "\n",
    "    adjacency_list = [\n",
    "        [0,1,2],[1,2,3],[2,3,4],[0,5,6],[5,6,7],[6,7,8],\n",
    "        [0,9,10],[9,10,11],[10,11,12],[0,13,14],[13,14,15],\n",
    "        [14,15,16],[0,17,18],[17,18,19],[18,19,20]\n",
    "    ]\n",
    "\n",
    "    angle_list=[]\n",
    "\n",
    "    for adjacency in adjacency_list :\n",
    "        idx0, idx1, idx2 = adjacency\n",
    "        point0 = np.array([hand_landmarks.landmark[idx0].x, hand_landmarks.landmark[idx0].y, hand_landmarks.landmark[idx0].z])\n",
    "        point1 = np.array([hand_landmarks.landmark[idx1].x, hand_landmarks.landmark[idx1].y, hand_landmarks.landmark[idx1].z])\n",
    "        point2 = np.array([hand_landmarks.landmark[idx2].x, hand_landmarks.landmark[idx2].y, hand_landmarks.landmark[idx2].z])\n",
    "\n",
    "        vector0 = point0 - point1\n",
    "        vector1 = point2 - point1\n",
    "        inner_product_result = np.dot(vector0,vector1)\n",
    "        cos_theta = inner_product_result/(np.linalg.norm(vector0) * np.linalg.norm(vector1))\n",
    "        theta = np.arccos(cos_theta)\n",
    "        angle_list.append(theta)\n",
    "    \n",
    "    new_dataset.append([angle_list, true_class])\n"
   ]
  },
  {
   "cell_type": "code",
   "execution_count": 39,
   "id": "6c54fcee",
   "metadata": {},
   "outputs": [],
   "source": [
    "with open(\"new_dataset.pkl\", \"wb\")as f:\n",
    "    pickle.dump(new_dataset,f)"
   ]
  },
  {
   "cell_type": "code",
   "execution_count": 5,
   "id": "b7ed0759",
   "metadata": {},
   "outputs": [],
   "source": [
    "from sklearn.neighbors import KNeighborsClassifier"
   ]
  },
  {
   "cell_type": "code",
   "execution_count": 12,
   "id": "8b052467",
   "metadata": {},
   "outputs": [],
   "source": [
    "classifier = KNeighborsClassifier(n_neighbors=3)"
   ]
  },
  {
   "cell_type": "code",
   "execution_count": 13,
   "id": "c3778e15",
   "metadata": {},
   "outputs": [
    {
     "data": {
      "text/plain": [
       "KNeighborsClassifier(n_neighbors=3)"
      ]
     },
     "execution_count": 13,
     "metadata": {},
     "output_type": "execute_result"
    }
   ],
   "source": [
    "training_inputs = []\n",
    "training_labels = []\n",
    "for data in new_dataset:\n",
    "    angle_list, true_class = data\n",
    "    training_inputs.append(angle_list)\n",
    "    training_labels.append(true_class)\n",
    "classifier.fit(training_inputs, training_labels)"
   ]
  },
  {
   "cell_type": "code",
   "execution_count": 14,
   "id": "9bdbd806",
   "metadata": {},
   "outputs": [
    {
     "name": "stdout",
     "output_type": "stream",
     "text": [
      "KNeighborsClassifier(n_neighbors=3)\n"
     ]
    }
   ],
   "source": [
    "print(classifier)"
   ]
  },
  {
   "cell_type": "code",
   "execution_count": 15,
   "id": "515a05df",
   "metadata": {},
   "outputs": [
    {
     "data": {
      "text/plain": [
       "array([0, 0, 0, 0, 0, 0, 0, 0, 0, 0, 1, 1, 1, 1, 1, 1, 1, 1, 1, 1, 2, 2,\n",
       "       2, 2, 2, 2, 2, 2, 2, 2, 3, 3, 3, 2, 3, 3, 3, 3, 3, 3, 4, 4, 4, 4,\n",
       "       4, 4, 4, 4, 4, 4])"
      ]
     },
     "execution_count": 15,
     "metadata": {},
     "output_type": "execute_result"
    }
   ],
   "source": [
    "classifier.predict(training_inputs)"
   ]
  },
  {
   "cell_type": "code",
   "execution_count": 16,
   "id": "bc368151",
   "metadata": {},
   "outputs": [
    {
     "name": "stdout",
     "output_type": "stream",
     "text": [
      "accuracy : 98.0 %\n"
     ]
    }
   ],
   "source": [
    "correct_cnt = 0\n",
    "total_cnt = 0\n",
    "for data in new_dataset:\n",
    "    angle_list, true_class = data\n",
    "    predict_class = classifier.predict([angle_list])[0]\n",
    "    if (predict_class == true_class):\n",
    "        correct_cnt +=1\n",
    "    total_cnt+=1\n",
    "print(f\"accuracy : {correct_cnt * 100/total_cnt} %\")"
   ]
  },
  {
   "cell_type": "code",
   "execution_count": 17,
   "id": "a2929947",
   "metadata": {},
   "outputs": [
    {
     "name": "stdout",
     "output_type": "stream",
     "text": [
      "[[10.  0.  0.  0.  0.]\n",
      " [ 0. 10.  0.  0.  0.]\n",
      " [ 0.  0. 10.  0.  0.]\n",
      " [ 0.  0.  1.  9.  0.]\n",
      " [ 0.  0.  0.  0. 10.]]\n"
     ]
    },
    {
     "data": {
      "image/png": "[encoded data removed]",
      "text/plain": [
       "<Figure size 432x288 with 1 Axes>"
      ]
     },
     "metadata": {
      "needs_background": "light"
     },
     "output_type": "display_data"
    }
   ],
   "source": [
    "# confusion matrix\n",
    "confusion_matrix = np.zeros((5,5))\n",
    "for data in new_dataset:\n",
    "    angle_list, true_class = data\n",
    "    predict_class = classifier.predict([angle_list])[0]\n",
    "    confusion_matrix[true_class, predict_class] +=1\n",
    "print(confusion_matrix)\n",
    "\n",
    "fig, ax = plt.subplots()\n",
    "im = ax.imshow(confusion_matrix)\n",
    "ax.set_title(\"confusion matrix\")\n",
    "plt.axis(\"off\")\n",
    "plt.show()"
   ]
  },
  {
   "cell_type": "code",
   "execution_count": 18,
   "id": "9747c09e",
   "metadata": {},
   "outputs": [],
   "source": [
    "# seperate training data & test data"
   ]
  },
  {
   "cell_type": "code",
   "execution_count": 21,
   "id": "56854afd",
   "metadata": {},
   "outputs": [],
   "source": [
    "class HandGesture:\n",
    "    def __init__(self):\n",
    "        self.classifier = KNeighborsClassifier(n_neighbors=3)\n",
    "        \n",
    "        with open(\"new_dataset.pkl\",\"rb\") as f:\n",
    "            dataset = pickle.load(f)\n",
    "        training_inputs = []\n",
    "        training_labels = []\n",
    "        for data in new_dataset:\n",
    "            angle_list, true_class = data\n",
    "            training_inputs.append(angle_list)\n",
    "            training_labels.append(true_class)\n",
    "        self.classifier.fit(training_inputs, training_labels)\n",
    "    \n",
    "    def get_prediction(self, hand_landmarks):\n",
    "        adjacency_list = [\n",
    "            [0,1,2],[1,2,3],[2,3,4],[0,5,6],[5,6,7],[6,7,8],\n",
    "            [0,9,10],[9,10,11],[10,11,12],[0,13,14],[13,14,15],\n",
    "            [14,15,16],[0,17,18],[17,18,19],[18,19,20]\n",
    "        ]\n",
    "\n",
    "        angle_list=[]\n",
    "\n",
    "        for adjacency in adjacency_list :\n",
    "            idx0, idx1, idx2 = adjacency\n",
    "            point0 = np.array([hand_landmarks.landmark[idx0].x, hand_landmarks.landmark[idx0].y, hand_landmarks.landmark[idx0].z])\n",
    "            point1 = np.array([hand_landmarks.landmark[idx1].x, hand_landmarks.landmark[idx1].y, hand_landmarks.landmark[idx1].z])\n",
    "            point2 = np.array([hand_landmarks.landmark[idx2].x, hand_landmarks.landmark[idx2].y, hand_landmarks.landmark[idx2].z])\n",
    "\n",
    "            vector0 = point0 - point1\n",
    "            vector1 = point2 - point1\n",
    "            inner_product_result = np.dot(vector0,vector1)\n",
    "            cos_theta = inner_product_result/(np.linalg.norm(vector0) * np.linalg.norm(vector1))\n",
    "            theta = np.arccos(cos_theta)\n",
    "            angle_list.append(theta)\n",
    "            \n",
    "        return self.classifier.predict([angle_list])[0]"
   ]
  },
  {
   "cell_type": "code",
   "execution_count": 22,
   "id": "1418a681",
   "metadata": {},
   "outputs": [],
   "source": [
    "hand_gesture = HandGesture()"
   ]
  },
  {
   "cell_type": "code",
   "execution_count": 23,
   "id": "a04c8aac",
   "metadata": {},
   "outputs": [
    {
     "name": "stdout",
     "output_type": "stream",
     "text": [
      "0 0\n"
     ]
    }
   ],
   "source": [
    "hand_landmarks, true_class = dataset[0]\n",
    "predict_class = hand_gesture.get_prediction(hand_landmarks)\n",
    "print(predict_class, true_class)"
   ]
  },
  {
   "cell_type": "code",
   "execution_count": null,
   "id": "86fa81c9",
   "metadata": {},
   "outputs": [],
   "source": []
  }
 ],
 "metadata": {
  "kernelspec": {
   "display_name": "Python 3 (ipykernel)",
   "language": "python",
   "name": "python3"
  },
  "language_info": {
   "codemirror_mode": {
    "name": "ipython",
    "version": 3
   },
   "file_extension": ".py",
   "mimetype": "text/x-python",
   "name": "python",
   "nbconvert_exporter": "python",
   "pygments_lexer": "ipython3",
   "version": "3.7.1"
  }
 },
 "nbformat": 4,
 "nbformat_minor": 5
}
