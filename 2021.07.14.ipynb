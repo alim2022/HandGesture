{
 "cells": [
  {
   "cell_type": "code",
   "execution_count": 1,
   "id": "45a7a731",
   "metadata": {},
   "outputs": [],
   "source": [
    "import cv2"
   ]
  },
  {
   "cell_type": "code",
   "execution_count": 2,
   "id": "3423d665",
   "metadata": {},
   "outputs": [
    {
     "name": "stdout",
     "output_type": "stream",
     "text": [
      "<class 'numpy.ndarray'>\n"
     ]
    }
   ],
   "source": [
    "file_name = \"hand_example.jpg\"\n",
    "img = cv2.imread(file_name) # 0 - 255 (2^8-1) for int type\n",
    "print(type(img))"
   ]
  },
  {
   "cell_type": "code",
   "execution_count": 3,
   "id": "1d7be729",
   "metadata": {},
   "outputs": [
    {
     "name": "stdout",
     "output_type": "stream",
     "text": [
      "(183, 276, 3)\n"
     ]
    }
   ],
   "source": [
    "print(img.shape)"
   ]
  },
  {
   "cell_type": "code",
   "execution_count": 4,
   "id": "09134b76",
   "metadata": {},
   "outputs": [],
   "source": [
    "def showImage(window_name, img, wait=0):\n",
    "    cv2.imshow(window_name, img)\n",
    "    cv2.waitKey(wait)\n",
    "    cv2.destroyAllWindows()\n",
    "    cv2.waitKey(1)"
   ]
  },
  {
   "cell_type": "code",
   "execution_count": 5,
   "id": "24394159",
   "metadata": {},
   "outputs": [],
   "source": [
    "showImage(\"test\", img)"
   ]
  },
  {
   "cell_type": "code",
   "execution_count": 8,
   "id": "8819cbf7",
   "metadata": {},
   "outputs": [],
   "source": [
    "import numpy as np"
   ]
  },
  {
   "cell_type": "code",
   "execution_count": 25,
   "id": "345d69ff",
   "metadata": {},
   "outputs": [],
   "source": [
    "#empty 256 x 256 x 3\n",
    "#img = np.zeros((256,256,3)) # 0-1 for float type\n",
    "img = np.ones((256,256,3))"
   ]
  },
  {
   "cell_type": "code",
   "execution_count": 14,
   "id": "c8ce09e9",
   "metadata": {},
   "outputs": [],
   "source": [
    "showImage(\"test\", img)"
   ]
  },
  {
   "cell_type": "code",
   "execution_count": 35,
   "id": "0d9b9410",
   "metadata": {},
   "outputs": [],
   "source": [
    "# circle     Color: blue green red\n",
    "img = np.ones((256,256,3))\n",
    "circle_img = cv2.circle(img, (128,200), 50, (1.0,0.0,0.0) , -1)\n",
    "showImage(\"circle\", circle_img)"
   ]
  },
  {
   "cell_type": "code",
   "execution_count": 38,
   "id": "10cd58a7",
   "metadata": {},
   "outputs": [],
   "source": [
    "cap = cv2.VideoCapture(0)\n",
    "# cap.isOpened()\n",
    "# cap.isRead()\n",
    "while cap.isOpened():\n",
    "    success, img = cap.read()\n",
    "    if not success:\n",
    "        print(\"read fail\")\n",
    "        continue\n",
    "    \n",
    "    cv2.imshow(\"cam\", img)\n",
    "    key = cv2.waitKey(5) # if no key is pressed = -1,  esc = 27\n",
    "    \n",
    "    if key ==27:\n",
    "        break\n",
    "    \n",
    "cv2.destroyAllWindows()\n",
    "cv2.waitKey(1)\n",
    "cap.release()\n",
    "\n",
    "    "
   ]
  },
  {
   "cell_type": "code",
   "execution_count": 40,
   "id": "5308af70",
   "metadata": {},
   "outputs": [],
   "source": [
    "import mediapipe as mp"
   ]
  },
  {
   "cell_type": "code",
   "execution_count": 41,
   "id": "b1c3f7e2",
   "metadata": {},
   "outputs": [],
   "source": [
    "mp_hands = mp.solutions.hands\n",
    "mp_drawing = mp.solutions.drawing_utils"
   ]
  },
  {
   "cell_type": "code",
   "execution_count": 42,
   "id": "3af66724",
   "metadata": {},
   "outputs": [],
   "source": [
    "file_name = \"hand_example.jpg\"\n",
    "img = cv2.imread(file_name)\n",
    "img = cv2.flip(img, 1)\n",
    "img = cv2.cvtColor(img, cv2.COLOR_BGR2RGB)"
   ]
  },
  {
   "cell_type": "code",
   "execution_count": 43,
   "id": "6702d36d",
   "metadata": {},
   "outputs": [],
   "source": [
    "showImage(\"test\",img)"
   ]
  },
  {
   "cell_type": "code",
   "execution_count": 44,
   "id": "e9c50b71",
   "metadata": {},
   "outputs": [
    {
     "name": "stderr",
     "output_type": "stream",
     "text": [
      "INFO: Created TensorFlow Lite XNNPACK delegate for CPU.\n"
     ]
    }
   ],
   "source": [
    "hands = mp_hands.Hands(static_image_mode=True , max_num_hands = 2 , min_detection_confidence=0.5)\n",
    "result = hands.process(img)"
   ]
  },
  {
   "cell_type": "code",
   "execution_count": 45,
   "id": "d353f65c",
   "metadata": {},
   "outputs": [
    {
     "name": "stdout",
     "output_type": "stream",
     "text": [
      "<class 'type'>\n"
     ]
    }
   ],
   "source": [
    "print(type(result))"
   ]
  },
  {
   "cell_type": "code",
   "execution_count": 46,
   "id": "1682230a",
   "metadata": {},
   "outputs": [
    {
     "name": "stdout",
     "output_type": "stream",
     "text": [
      "[classification {\n",
      "  index: 0\n",
      "  score: 1.0\n",
      "  label: \"Left\"\n",
      "}\n",
      "]\n"
     ]
    }
   ],
   "source": [
    "print(result.multi_handedness)"
   ]
  },
  {
   "cell_type": "code",
   "execution_count": 49,
   "id": "382b5dcf",
   "metadata": {
    "scrolled": true
   },
   "outputs": [
    {
     "data": {
      "text/plain": [
       "[landmark {\n",
       "   x: 0.5883724093437195\n",
       "   y: 0.600513756275177\n",
       "   z: -0.000110394146759063\n",
       " }\n",
       " landmark {\n",
       "   x: 0.5964284539222717\n",
       "   y: 0.4884115755558014\n",
       "   z: -0.03624233976006508\n",
       " }\n",
       " landmark {\n",
       "   x: 0.5781431198120117\n",
       "   y: 0.38453158736228943\n",
       "   z: -0.0748046487569809\n",
       " }\n",
       " landmark {\n",
       "   x: 0.5291162729263306\n",
       "   y: 0.3363705575466156\n",
       "   z: -0.11463189870119095\n",
       " }\n",
       " landmark {\n",
       "   x: 0.4888070821762085\n",
       "   y: 0.37840044498443604\n",
       "   z: -0.13403581082820892\n",
       " }\n",
       " landmark {\n",
       "   x: 0.5029683709144592\n",
       "   y: 0.39451998472213745\n",
       "   z: -0.012892842292785645\n",
       " }\n",
       " landmark {\n",
       "   x: 0.46870309114456177\n",
       "   y: 0.33749064803123474\n",
       "   z: -0.04852629080414772\n",
       " }\n",
       " landmark {\n",
       "   x: 0.5144006013870239\n",
       "   y: 0.38258984684944153\n",
       "   z: -0.034431178122758865\n",
       " }\n",
       " landmark {\n",
       "   x: 0.5277401804924011\n",
       "   y: 0.41310790181159973\n",
       "   z: -0.008139082230627537\n",
       " }\n",
       " landmark {\n",
       "   x: 0.48374348878860474\n",
       "   y: 0.44325101375579834\n",
       "   z: -0.021881410852074623\n",
       " }\n",
       " landmark {\n",
       "   x: 0.44918763637542725\n",
       "   y: 0.39258110523223877\n",
       "   z: -0.09561044722795486\n",
       " }\n",
       " landmark {\n",
       "   x: 0.5091753602027893\n",
       "   y: 0.4431263506412506\n",
       "   z: -0.09601246565580368\n",
       " }\n",
       " landmark {\n",
       "   x: 0.520004153251648\n",
       "   y: 0.47324565052986145\n",
       "   z: -0.07187885046005249\n",
       " }\n",
       " landmark {\n",
       "   x: 0.4690920114517212\n",
       "   y: 0.4969234764575958\n",
       "   z: -0.03840291127562523\n",
       " }\n",
       " landmark {\n",
       "   x: 0.43961769342422485\n",
       "   y: 0.4526430368423462\n",
       "   z: -0.103639155626297\n",
       " }\n",
       " landmark {\n",
       "   x: 0.4975220859050751\n",
       "   y: 0.4890509247779846\n",
       "   z: -0.09666213393211365\n",
       " }\n",
       " landmark {\n",
       "   x: 0.5082223415374756\n",
       "   y: 0.5160292387008667\n",
       "   z: -0.07462811470031738\n",
       " }\n",
       " landmark {\n",
       "   x: 0.45914894342422485\n",
       "   y: 0.5593346953392029\n",
       "   z: -0.05774785205721855\n",
       " }\n",
       " landmark {\n",
       "   x: 0.42951253056526184\n",
       "   y: 0.5100516676902771\n",
       "   z: -0.09004226326942444\n",
       " }\n",
       " landmark {\n",
       "   x: 0.4726495146751404\n",
       "   y: 0.5214170217514038\n",
       "   z: -0.09148184210062027\n",
       " }\n",
       " landmark {\n",
       "   x: 0.4883553385734558\n",
       "   y: 0.5442739725112915\n",
       "   z: -0.08652473241090775\n",
       " }]"
      ]
     },
     "execution_count": 49,
     "metadata": {},
     "output_type": "execute_result"
    }
   ],
   "source": [
    "result.multi_hand_landmarks"
   ]
  },
  {
   "cell_type": "code",
   "execution_count": 52,
   "id": "6636d8a6",
   "metadata": {},
   "outputs": [],
   "source": [
    "img = cv2.cvtColor(img, cv2.COLOR_RGB2BGR)\n",
    "annotated_img = img.copy()\n",
    "for hand_landmarks in result.multi_hand_landmarks:\n",
    "    mp_drawing.draw_landmarks(annotated_img, hand_landmarks, mp_hands.HAND_CONNECTIONS)\n",
    "\n",
    "showImage(\"annotated\" , annotated_img)"
   ]
  },
  {
   "cell_type": "code",
   "execution_count": 54,
   "id": "5934df47",
   "metadata": {},
   "outputs": [
    {
     "data": {
      "text/plain": [
       "1"
      ]
     },
     "execution_count": 54,
     "metadata": {},
     "output_type": "execute_result"
    }
   ],
   "source": [
    "len(result.multi_hand_landmarks)"
   ]
  },
  {
   "cell_type": "code",
   "execution_count": 58,
   "id": "c7657715",
   "metadata": {
    "scrolled": true
   },
   "outputs": [
    {
     "name": "stdout",
     "output_type": "stream",
     "text": [
      "21\n",
      "0.5883724093437195 0.600513756275177 -0.000110394146759063\n",
      "0.5964284539222717 0.4884115755558014 -0.03624233976006508\n",
      "0.5781431198120117 0.38453158736228943 -0.0748046487569809\n",
      "0.5291162729263306 0.3363705575466156 -0.11463189870119095\n",
      "0.4888070821762085 0.37840044498443604 -0.13403581082820892\n",
      "0.5029683709144592 0.39451998472213745 -0.012892842292785645\n",
      "0.46870309114456177 0.33749064803123474 -0.04852629080414772\n",
      "0.5144006013870239 0.38258984684944153 -0.034431178122758865\n",
      "0.5277401804924011 0.41310790181159973 -0.008139082230627537\n",
      "0.48374348878860474 0.44325101375579834 -0.021881410852074623\n",
      "0.44918763637542725 0.39258110523223877 -0.09561044722795486\n",
      "0.5091753602027893 0.4431263506412506 -0.09601246565580368\n",
      "0.520004153251648 0.47324565052986145 -0.07187885046005249\n",
      "0.4690920114517212 0.4969234764575958 -0.03840291127562523\n",
      "0.43961769342422485 0.4526430368423462 -0.103639155626297\n",
      "0.4975220859050751 0.4890509247779846 -0.09666213393211365\n",
      "0.5082223415374756 0.5160292387008667 -0.07462811470031738\n",
      "0.45914894342422485 0.5593346953392029 -0.05774785205721855\n",
      "0.42951253056526184 0.5100516676902771 -0.09004226326942444\n",
      "0.4726495146751404 0.5214170217514038 -0.09148184210062027\n",
      "0.4883553385734558 0.5442739725112915 -0.08652473241090775\n"
     ]
    }
   ],
   "source": [
    "hand_landmarks = result.multi_hand_landmarks[0]\n",
    "print(len(hand_landmarks.landmark))\n",
    "for landmark in hand_landmarks.landmark:\n",
    "    print(landmark.x, landmark.y, landmark.z)"
   ]
  },
  {
   "cell_type": "code",
   "execution_count": 59,
   "id": "dee1b72b",
   "metadata": {},
   "outputs": [],
   "source": [
    "import matplotlib.pyplot as plt"
   ]
  },
  {
   "cell_type": "code",
   "execution_count": 61,
   "id": "94b373b6",
   "metadata": {
    "scrolled": false
   },
   "outputs": [
    {
     "data": {
      "image/png": "[encoded data removed]",
      "text/plain": [
       "<Figure size 432x288 with 1 Axes>"
      ]
     },
     "metadata": {
      "needs_background": "light"
     },
     "output_type": "display_data"
    }
   ],
   "source": [
    "fig = plt.figure()\n",
    "ax = fig.add_subplot(projection=\"3d\")\n",
    "for landmark in hand_landmarks.landmark:\n",
    "    #print(landmark.x, landmark.y, landmark.z)\n",
    "    ax.scatter(landmark.x, landmark.y, landmark.z , marker='o')\n",
    "\n",
    "landmark_0 = hand_landmarks.landmark[0]\n",
    "landmark_1 = hand_landmarks.landmark[1]\n",
    "xs = [landmark_0.x, landmark_1.x]\n",
    "ys = [landmark_0.y, landmark_1.y]\n",
    "zs = [landmark_0.z, landmark_1.z]\n",
    "ax.plot(xs, ys, zs)\n",
    "\n",
    "plt.show()"
   ]
  },
  {
   "cell_type": "code",
   "execution_count": null,
   "id": "dca0741d",
   "metadata": {},
   "outputs": [],
   "source": [
    "#HW: annotated video & 3D visualization graph"
   ]
  }
 ],
 "metadata": {
  "kernelspec": {
   "display_name": "Python 3 (ipykernel)",
   "language": "python",
   "name": "python3"
  },
  "language_info": {
   "codemirror_mode": {
    "name": "ipython",
    "version": 3
   },
   "file_extension": ".py",
   "mimetype": "text/x-python",
   "name": "python",
   "nbconvert_exporter": "python",
   "pygments_lexer": "ipython3",
   "version": "3.7.1"
  }
 },
 "nbformat": 4,
 "nbformat_minor": 5
}
