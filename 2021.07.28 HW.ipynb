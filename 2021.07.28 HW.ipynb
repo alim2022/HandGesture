{
 "cells": [
  {
   "cell_type": "code",
   "execution_count": 2,
   "id": "7b60a7ee",
   "metadata": {},
   "outputs": [],
   "source": [
    "#import\n",
    "import matplotlib.pyplot as plt\n",
    "import mediapipe as mp\n",
    "import numpy as np\n",
    "import cv2\n",
    "from IPython.display import clear_output\n",
    "import pickle\n",
    "from sklearn.neighbors import KNeighborsClassifier"
   ]
  },
  {
   "cell_type": "code",
   "execution_count": 3,
   "id": "d0334a1c",
   "metadata": {},
   "outputs": [],
   "source": [
    "#instantiate drawing & hands\n",
    "mp_drawing = mp.solutions.drawing_utils\n",
    "mp_hands = mp.solutions.hands"
   ]
  },
  {
   "cell_type": "code",
   "execution_count": null,
   "id": "7270c18c",
   "metadata": {},
   "outputs": [],
   "source": [
    "dataset = []\n",
    "cnt_data = np.zeros(5)\n",
    "\n",
    "cap = cv2.VideoCapture(0)\n",
    "hands = mp_hands.Hands(static_image_mode=False , max_num_hands = 1 , min_detection_confidence=0.7, min_tracking_confidence=0.5)\n",
    "\n",
    "while cap.isOpened():\n",
    "    success, img = cap.read()\n",
    "    if not success:\n",
    "        print(\"image fetch fail\")\n",
    "        continue\n",
    "        \n",
    "    img = cv2.flip(img, 1)\n",
    "    img = cv2.cvtColor(img, cv2.COLOR_BGR2RGB)\n",
    "    img.flags.writeable = False\n",
    "    results = hands.process(img)\n",
    "    img.flags.writeable = True\n",
    "    img = cv2.cvtColor(img, cv2.COLOR_RGB2BGR)\n",
    "    \n",
    "    if results.multi_hand_landmarks is not None:\n",
    "        hand_landmarks = results.multi_hand_landmarks[0]\n",
    "        mp_drawing.draw_landmarks(img, hand_landmarks, mp_hands.HAND_CONNECTIONS)\n",
    "    \n",
    "    strs = \"\"\n",
    "    for cnt in cnt_data:\n",
    "        strs += f\"{int(cnt):02d} \" \n",
    "    cv2.putText(img, strs , (50,50) , cv2.FONT_HERSHEY_COMPLEX, 1, (0,0,0))\n",
    "    \n",
    "    cv2.imshow(\"img\",img)\n",
    "    key_value = cv2.waitKey(5)\n",
    "    \n",
    "    if key_value == 27:\n",
    "        break\n",
    "        \n",
    "    if key_value==49:\n",
    "        data_pair = [hand_landmarks, 0]\n",
    "        dataset.append(data_pair)\n",
    "        cnt_data[0]+=1\n",
    "    elif key_value==50:\n",
    "        data_pair = [hand_landmarks, 1]\n",
    "        dataset.append(data_pair)\n",
    "        cnt_data[1]+=1\n",
    "    elif key_value==51:\n",
    "        data_pair = [hand_landmarks, 2]\n",
    "        dataset.append(data_pair)\n",
    "        cnt_data[2]+=1\n",
    "    elif key_value==52:\n",
    "        data_pair = [hand_landmarks, 3]\n",
    "        dataset.append(data_pair)\n",
    "        cnt_data[3]+=1\n",
    "    elif key_value==53:\n",
    "        data_pair = [hand_landmarks, 4]\n",
    "        dataset.append(data_pair)\n",
    "        cnt_data[4]+=1\n",
    "    elif key_value==27:\n",
    "        break\n",
    "\n",
    "cv2.destroyAllWindows()\n",
    "cv2.waitKey(1)\n",
    "cap.release()"
   ]
  },
  {
   "cell_type": "markdown",
   "id": "0524134d",
   "metadata": {},
   "source": [
    "1. one = 0\n",
    "2. two = 1\n",
    "3. three = 2\n",
    "4. thumb = 3\n",
    "5. fist = 4"
   ]
  },
  {
   "cell_type": "code",
   "execution_count": 8,
   "id": "c9efe346",
   "metadata": {},
   "outputs": [
    {
     "name": "stdout",
     "output_type": "stream",
     "text": [
      "400\n"
     ]
    }
   ],
   "source": [
    "print(len(dataset))"
   ]
  },
  {
   "cell_type": "code",
   "execution_count": 7,
   "id": "4e77e8ec",
   "metadata": {},
   "outputs": [],
   "source": [
    "#80 per gesture\n",
    "with open(\"main_data.pkl\", \"wb\")as f:\n",
    "    pickle.dump(dataset,f)"
   ]
  },
  {
   "cell_type": "code",
   "execution_count": null,
   "id": "f94ddc6d",
   "metadata": {},
   "outputs": [],
   "source": [
    "#20 per gesture\n",
    "with open(\"test_data.pkl\", \"wb\")as f:\n",
    "    pickle.dump(dataset,f)"
   ]
  }
 ],
 "metadata": {
  "kernelspec": {
   "display_name": "Python 3 (ipykernel)",
   "language": "python",
   "name": "python3"
  },
  "language_info": {
   "codemirror_mode": {
    "name": "ipython",
    "version": 3
   },
   "file_extension": ".py",
   "mimetype": "text/x-python",
   "name": "python",
   "nbconvert_exporter": "python",
   "pygments_lexer": "ipython3",
   "version": "3.7.1"
  }
 },
 "nbformat": 4,
 "nbformat_minor": 5
}
